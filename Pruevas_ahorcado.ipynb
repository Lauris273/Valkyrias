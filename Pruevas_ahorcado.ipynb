{
 "cells": [
  {
   "cell_type": "markdown",
   "id": "28009a30",
   "metadata": {},
   "source": [
    "## Juego del Ahorcado\n",
    "\n",
    "Reglas del juego del \"Ahorcado\":\n",
    "\n",
    "Un jugador elige una palabra secreta y dibuja un espacio para cada letra de la palabra.\n",
    "\n",
    "El otro jugador intenta adivinar letras para completar la palabra.\n",
    "\n",
    "Si el jugador adivinador adivina una letra correctamente, se revela en su lugar correspondiente.\n",
    "\n",
    "Si el jugador adivinador adivina incorrectamente, se dibuja una parte del cuerpo en la horca.\n",
    "\n",
    "El objetivo del jugador adivinador es adivinar la palabra antes de que se dibuje el dibujo completo en la horca.\n",
    "\n",
    "Pistas para las alumnas:\n",
    "\n",
    "- Empieza por seleccionar una palabra secreta para que el jugador adivinador intente adivinar. Puedes crear una lista de palabras.\n",
    "- Inicializa el tablero de juego con guiones bajos (\"_\") para representar las letras no adivinadas.\n",
    "- Utiliza un bucle while para permitir que el jugador adivinador haga múltiples intentos hasta que adivine la palabra o se agoten los intentos.\n",
    "- Verifica si la letra adivinada por el jugador está en la palabra secreta y actualicen el tablero en consecuencia.\n",
    "- Lleva un seguimiento de las letras adivinadas y los intentos fallidos.\n",
    "- Determina las condiciones de victoria y derrota del juego, y salgan del bucle cuando se cumplan estas condiciones."
   ]
  },
  {
   "cell_type": "code",
   "execution_count": 5,
   "id": "270613a6",
   "metadata": {},
   "outputs": [
    {
     "name": "stdout",
     "output_type": "stream",
     "text": [
      "    +------+\n",
      "    |      |\n",
      "    0      |\n",
      "   /|\\     |\n",
      "    |      |\n",
      "   / \\     |\n",
      "           |\n",
      "=============\n"
     ]
    },
    {
     "name": "stderr",
     "output_type": "stream",
     "text": [
      "<>:4: SyntaxWarning: invalid escape sequence '\\ '\n",
      "<>:6: SyntaxWarning: invalid escape sequence '\\ '\n",
      "<>:4: SyntaxWarning: invalid escape sequence '\\ '\n",
      "<>:6: SyntaxWarning: invalid escape sequence '\\ '\n",
      "C:\\Users\\Usuario\\AppData\\Local\\Temp\\ipykernel_15944\\2077569749.py:4: SyntaxWarning: invalid escape sequence '\\ '\n",
      "  print(\"   /|\\     |\")\n",
      "C:\\Users\\Usuario\\AppData\\Local\\Temp\\ipykernel_15944\\2077569749.py:6: SyntaxWarning: invalid escape sequence '\\ '\n",
      "  print(\"   / \\     |\")\n"
     ]
    }
   ],
   "source": [
    "print(\"    +------+\")\n",
    "print(\"    |      |\")\n",
    "print(\"    0      |\")\n",
    "print(\"   /|\\     |\")\n",
    "print(\"    |      |\")\n",
    "print(\"   / \\     |\")\n",
    "print(\"           |\")\n",
    "print(\"=============\")"
   ]
  },
  {
   "cell_type": "code",
   "execution_count": null,
   "id": "b757db54",
   "metadata": {},
   "outputs": [],
   "source": [
    "palabra_secreta = \"casa\"\n",
    "\n",
    "# intentos = 5\n",
    "\n",
    "print(\"    +------+\")\n",
    "print(\"    |      |\") #1\n",
    "print(\"    0      |\") #2\n",
    "print(\"   /|\\     |\") #3\n",
    "print(\"    |      |\") #4\n",
    "print(\"   / \\     |\") #5\n",
    "print(\"           |\")\n",
    "print(\"=============\")\n",
    "\n",
    "\n",
    "\n",
    "# Inicio del juego\"\n",
    "# Adivina la palabra: _ _ _ _ \n",
    "print(\"    +------+\")\n",
    "print(\"           |\") \n",
    "print(\"           |\") \n",
    "print(\"           |\") \n",
    "print(\"           |\") \n",
    "print(\"           |\") \n",
    "print(\"           |\")\n",
    "print(\"=============\")\n",
    "\n",
    "# while para adivinar la palabara con varios intentos\n",
    "# while intentos > 0: \n",
    "#     input (Dime una letra o escribe \"salir\")\n",
    "#     intentos -= 1\n",
    "#         for letra in palabra_secreta: (cada elemento es una de las letras)\n",
    "#           if letra == input:\n",
    "#               print(f\"Has acertado con la letra\", letra)\n",
    "#               print(f\"Adivina la palabra: \" _ _ _ _\")\n",
    "#               * la letra debe aparecer en \"Adivina la palabra: _ _ _ _ \" *\n",
    "\n",
    "#         else:\n",
    "#           print(No has acertado)\n",
    "#           *deben ir apareciendo las partes del cuerpo en el dibujo del ahorcado*\n",
    "\n",
    "\n"
   ]
  },
  {
   "cell_type": "code",
   "execution_count": 6,
   "id": "285eab58",
   "metadata": {},
   "outputs": [
    {
     "name": "stdout",
     "output_type": "stream",
     "text": [
      "Adivina la palabra: _ _ _ _\n",
      "Cuidado no falles o irán apareciendo las partes del muñequito en la horca:\n",
      "    +------+\n",
      "           |\n",
      "           |\n",
      "           |\n",
      "           |\n",
      "           |\n",
      "           |\n",
      "=============\n",
      "No has acertado\n",
      "    +------+\n",
      "    |      |\n",
      "           |\n",
      "           |\n",
      "           |\n",
      "           |\n",
      "           |\n",
      "=============\n",
      "<bound method Kernel.raw_input of <ipykernel.ipkernel.IPythonKernel object at 0x00000165143836E0>>\n",
      "Has acertado con la letra a\n",
      "Adivina la palabra:  _ _ _ _\n",
      "No has acertado\n",
      "    +------+\n",
      "    |      |\n",
      "           |\n",
      "           |\n",
      "           |\n",
      "           |\n",
      "           |\n",
      "=============\n",
      "No has acertado\n",
      "    +------+\n",
      "    |      |\n",
      "           |\n",
      "           |\n",
      "           |\n",
      "           |\n",
      "           |\n",
      "=============\n",
      "No has acertado\n",
      "    +------+\n",
      "    |      |\n",
      "           |\n",
      "           |\n",
      "           |\n",
      "           |\n",
      "           |\n",
      "=============\n"
     ]
    },
    {
     "ename": "KeyboardInterrupt",
     "evalue": "Interrupted by user",
     "output_type": "error",
     "traceback": [
      "\u001b[1;31m---------------------------------------------------------------------------\u001b[0m",
      "\u001b[1;31mKeyboardInterrupt\u001b[0m                         Traceback (most recent call last)",
      "Cell \u001b[1;32mIn[6], line 20\u001b[0m\n\u001b[0;32m     18\u001b[0m intentos \u001b[38;5;241m-\u001b[39m\u001b[38;5;241m=\u001b[39m \u001b[38;5;241m1\u001b[39m\n\u001b[0;32m     19\u001b[0m \u001b[38;5;28;01mfor\u001b[39;00m letra \u001b[38;5;129;01min\u001b[39;00m palabra_secreta:\n\u001b[1;32m---> 20\u001b[0m     \u001b[38;5;28;01mif\u001b[39;00m letra \u001b[38;5;241m==\u001b[39m \u001b[38;5;28minput\u001b[39m(\u001b[38;5;124m\"\u001b[39m\u001b[38;5;124mDime una letra o escribe salir\u001b[39m\u001b[38;5;124m\"\u001b[39m):\n\u001b[0;32m     21\u001b[0m         \u001b[38;5;28mprint\u001b[39m(\u001b[38;5;28minput\u001b[39m)\n\u001b[0;32m     22\u001b[0m         \u001b[38;5;28mprint\u001b[39m(\u001b[38;5;124mf\u001b[39m\u001b[38;5;124m\"\u001b[39m\u001b[38;5;124mHas acertado con la letra\u001b[39m\u001b[38;5;124m\"\u001b[39m, letra)\n",
      "File \u001b[1;32mc:\\Users\\Usuario\\anaconda3\\Lib\\site-packages\\ipykernel\\kernelbase.py:1262\u001b[0m, in \u001b[0;36mKernel.raw_input\u001b[1;34m(self, prompt)\u001b[0m\n\u001b[0;32m   1260\u001b[0m     msg \u001b[38;5;241m=\u001b[39m \u001b[38;5;124m\"\u001b[39m\u001b[38;5;124mraw_input was called, but this frontend does not support input requests.\u001b[39m\u001b[38;5;124m\"\u001b[39m\n\u001b[0;32m   1261\u001b[0m     \u001b[38;5;28;01mraise\u001b[39;00m StdinNotImplementedError(msg)\n\u001b[1;32m-> 1262\u001b[0m \u001b[38;5;28;01mreturn\u001b[39;00m \u001b[38;5;28mself\u001b[39m\u001b[38;5;241m.\u001b[39m_input_request(\n\u001b[0;32m   1263\u001b[0m     \u001b[38;5;28mstr\u001b[39m(prompt),\n\u001b[0;32m   1264\u001b[0m     \u001b[38;5;28mself\u001b[39m\u001b[38;5;241m.\u001b[39m_parent_ident[\u001b[38;5;124m\"\u001b[39m\u001b[38;5;124mshell\u001b[39m\u001b[38;5;124m\"\u001b[39m],\n\u001b[0;32m   1265\u001b[0m     \u001b[38;5;28mself\u001b[39m\u001b[38;5;241m.\u001b[39mget_parent(\u001b[38;5;124m\"\u001b[39m\u001b[38;5;124mshell\u001b[39m\u001b[38;5;124m\"\u001b[39m),\n\u001b[0;32m   1266\u001b[0m     password\u001b[38;5;241m=\u001b[39m\u001b[38;5;28;01mFalse\u001b[39;00m,\n\u001b[0;32m   1267\u001b[0m )\n",
      "File \u001b[1;32mc:\\Users\\Usuario\\anaconda3\\Lib\\site-packages\\ipykernel\\kernelbase.py:1305\u001b[0m, in \u001b[0;36mKernel._input_request\u001b[1;34m(self, prompt, ident, parent, password)\u001b[0m\n\u001b[0;32m   1302\u001b[0m \u001b[38;5;28;01mexcept\u001b[39;00m \u001b[38;5;167;01mKeyboardInterrupt\u001b[39;00m:\n\u001b[0;32m   1303\u001b[0m     \u001b[38;5;66;03m# re-raise KeyboardInterrupt, to truncate traceback\u001b[39;00m\n\u001b[0;32m   1304\u001b[0m     msg \u001b[38;5;241m=\u001b[39m \u001b[38;5;124m\"\u001b[39m\u001b[38;5;124mInterrupted by user\u001b[39m\u001b[38;5;124m\"\u001b[39m\n\u001b[1;32m-> 1305\u001b[0m     \u001b[38;5;28;01mraise\u001b[39;00m \u001b[38;5;167;01mKeyboardInterrupt\u001b[39;00m(msg) \u001b[38;5;28;01mfrom\u001b[39;00m \u001b[38;5;28;01mNone\u001b[39;00m\n\u001b[0;32m   1306\u001b[0m \u001b[38;5;28;01mexcept\u001b[39;00m \u001b[38;5;167;01mException\u001b[39;00m:\n\u001b[0;32m   1307\u001b[0m     \u001b[38;5;28mself\u001b[39m\u001b[38;5;241m.\u001b[39mlog\u001b[38;5;241m.\u001b[39mwarning(\u001b[38;5;124m\"\u001b[39m\u001b[38;5;124mInvalid Message:\u001b[39m\u001b[38;5;124m\"\u001b[39m, exc_info\u001b[38;5;241m=\u001b[39m\u001b[38;5;28;01mTrue\u001b[39;00m)\n",
      "\u001b[1;31mKeyboardInterrupt\u001b[0m: Interrupted by user"
     ]
    }
   ],
   "source": [
    "palabra_secreta = \"casa\"\n",
    "intentos = 5\n",
    "\n",
    "# Inicio del juego\"\n",
    "print(f\"Adivina la palabra: _ _ _ _\") \n",
    "print(f\"Cuidado no falles o irán apareciendo las partes del muñequito en la horca:\")\n",
    "print(\"    +------+\")\n",
    "print(\"           |\") \n",
    "print(\"           |\") \n",
    "print(\"           |\") \n",
    "print(\"           |\") \n",
    "print(\"           |\") \n",
    "print(\"           |\")\n",
    "print(\"=============\")\n",
    "\n",
    "\n",
    "while intentos > 0: \n",
    "    intentos -= 1\n",
    "    for letra in palabra_secreta:\n",
    "        if letra == input(\"Dime una letra o escribe salir\"):\n",
    "            print(input)\n",
    "            print(f\"Has acertado con la letra\", letra)\n",
    "            print(f\"Adivina la palabra: \", \"_\", \"_\", \"_\", \"_\")\n",
    "        \n",
    "        else:\n",
    "            print(\"No has acertado\")\n",
    "            print(\"    +------+\")\n",
    "            print(\"    |      |\") \n",
    "            print(\"           |\") \n",
    "            print(\"           |\") \n",
    "            print(\"           |\") \n",
    "            print(\"           |\") \n",
    "            print(\"           |\")\n",
    "            print(\"=============\")"
   ]
  },
  {
   "cell_type": "code",
   "execution_count": 7,
   "id": "65b4de57",
   "metadata": {},
   "outputs": [
    {
     "name": "stdout",
     "output_type": "stream",
     "text": [
      "Incorrecto. Intenta nuevamente.\n",
      "Incorrecto. Intenta nuevamente.\n",
      "Incorrecto. Intenta nuevamente.\n"
     ]
    },
    {
     "ename": "KeyboardInterrupt",
     "evalue": "Interrupted by user",
     "output_type": "error",
     "traceback": [
      "\u001b[1;31m---------------------------------------------------------------------------\u001b[0m",
      "\u001b[1;31mKeyboardInterrupt\u001b[0m                         Traceback (most recent call last)",
      "Cell \u001b[1;32mIn[7], line 7\u001b[0m\n\u001b[0;32m      4\u001b[0m intentos_maximos \u001b[38;5;241m=\u001b[39m \u001b[38;5;241m5\u001b[39m\n\u001b[0;32m      6\u001b[0m \u001b[38;5;28;01mfor\u001b[39;00m intento \u001b[38;5;129;01min\u001b[39;00m \u001b[38;5;28mrange\u001b[39m(intentos_maximos):\n\u001b[1;32m----> 7\u001b[0m     adivinanza \u001b[38;5;241m=\u001b[39m \u001b[38;5;28minput\u001b[39m(\u001b[38;5;124m\"\u001b[39m\u001b[38;5;124mIntenta adivinar la palabra secreta: \u001b[39m\u001b[38;5;124m\"\u001b[39m)\n\u001b[0;32m      8\u001b[0m     \u001b[38;5;28;01mif\u001b[39;00m adivinanza \u001b[38;5;241m==\u001b[39m palabra_secreta:\n\u001b[0;32m      9\u001b[0m         \u001b[38;5;28mprint\u001b[39m(\u001b[38;5;124m\"\u001b[39m\u001b[38;5;124m¡Felicidades! Adivinaste la palabra secreta.\u001b[39m\u001b[38;5;124m\"\u001b[39m)\n",
      "File \u001b[1;32mc:\\Users\\Usuario\\anaconda3\\Lib\\site-packages\\ipykernel\\kernelbase.py:1262\u001b[0m, in \u001b[0;36mKernel.raw_input\u001b[1;34m(self, prompt)\u001b[0m\n\u001b[0;32m   1260\u001b[0m     msg \u001b[38;5;241m=\u001b[39m \u001b[38;5;124m\"\u001b[39m\u001b[38;5;124mraw_input was called, but this frontend does not support input requests.\u001b[39m\u001b[38;5;124m\"\u001b[39m\n\u001b[0;32m   1261\u001b[0m     \u001b[38;5;28;01mraise\u001b[39;00m StdinNotImplementedError(msg)\n\u001b[1;32m-> 1262\u001b[0m \u001b[38;5;28;01mreturn\u001b[39;00m \u001b[38;5;28mself\u001b[39m\u001b[38;5;241m.\u001b[39m_input_request(\n\u001b[0;32m   1263\u001b[0m     \u001b[38;5;28mstr\u001b[39m(prompt),\n\u001b[0;32m   1264\u001b[0m     \u001b[38;5;28mself\u001b[39m\u001b[38;5;241m.\u001b[39m_parent_ident[\u001b[38;5;124m\"\u001b[39m\u001b[38;5;124mshell\u001b[39m\u001b[38;5;124m\"\u001b[39m],\n\u001b[0;32m   1265\u001b[0m     \u001b[38;5;28mself\u001b[39m\u001b[38;5;241m.\u001b[39mget_parent(\u001b[38;5;124m\"\u001b[39m\u001b[38;5;124mshell\u001b[39m\u001b[38;5;124m\"\u001b[39m),\n\u001b[0;32m   1266\u001b[0m     password\u001b[38;5;241m=\u001b[39m\u001b[38;5;28;01mFalse\u001b[39;00m,\n\u001b[0;32m   1267\u001b[0m )\n",
      "File \u001b[1;32mc:\\Users\\Usuario\\anaconda3\\Lib\\site-packages\\ipykernel\\kernelbase.py:1305\u001b[0m, in \u001b[0;36mKernel._input_request\u001b[1;34m(self, prompt, ident, parent, password)\u001b[0m\n\u001b[0;32m   1302\u001b[0m \u001b[38;5;28;01mexcept\u001b[39;00m \u001b[38;5;167;01mKeyboardInterrupt\u001b[39;00m:\n\u001b[0;32m   1303\u001b[0m     \u001b[38;5;66;03m# re-raise KeyboardInterrupt, to truncate traceback\u001b[39;00m\n\u001b[0;32m   1304\u001b[0m     msg \u001b[38;5;241m=\u001b[39m \u001b[38;5;124m\"\u001b[39m\u001b[38;5;124mInterrupted by user\u001b[39m\u001b[38;5;124m\"\u001b[39m\n\u001b[1;32m-> 1305\u001b[0m     \u001b[38;5;28;01mraise\u001b[39;00m \u001b[38;5;167;01mKeyboardInterrupt\u001b[39;00m(msg) \u001b[38;5;28;01mfrom\u001b[39;00m \u001b[38;5;28;01mNone\u001b[39;00m\n\u001b[0;32m   1306\u001b[0m \u001b[38;5;28;01mexcept\u001b[39;00m \u001b[38;5;167;01mException\u001b[39;00m:\n\u001b[0;32m   1307\u001b[0m     \u001b[38;5;28mself\u001b[39m\u001b[38;5;241m.\u001b[39mlog\u001b[38;5;241m.\u001b[39mwarning(\u001b[38;5;124m\"\u001b[39m\u001b[38;5;124mInvalid Message:\u001b[39m\u001b[38;5;124m\"\u001b[39m, exc_info\u001b[38;5;241m=\u001b[39m\u001b[38;5;28;01mTrue\u001b[39;00m)\n",
      "\u001b[1;31mKeyboardInterrupt\u001b[0m: Interrupted by user"
     ]
    }
   ],
   "source": [
    "# inspiración de clase:\n",
    "\n",
    "palabra_secreta = \"python\"\n",
    "intentos_maximos = 5\n",
    "\n",
    "for intento in range(intentos_maximos):\n",
    "    adivinanza = input(\"Intenta adivinar la palabra secreta: \")\n",
    "    if adivinanza == palabra_secreta:\n",
    "        print(\"¡Felicidades! Adivinaste la palabra secreta.\")\n",
    "        break\n",
    "    else:\n",
    "        print(\"Incorrecto. Intenta nuevamente.\")\n",
    "\n",
    "if adivinanza != palabra_secreta:\n",
    "    print(\"Agotaste tus intentos. La palabra secreta era:\", palabra_secreta)"
   ]
  },
  {
   "cell_type": "code",
   "execution_count": 8,
   "id": "499de829",
   "metadata": {},
   "outputs": [],
   "source": [
    "import random\n",
    "\n",
    "# Lista de palabras\n",
    "palabras = ['python', 'ahorcado', 'programacion', 'desarrollador', 'teclado']"
   ]
  }
 ],
 "metadata": {
  "kernelspec": {
   "display_name": "base",
   "language": "python",
   "name": "python3"
  },
  "language_info": {
   "codemirror_mode": {
    "name": "ipython",
    "version": 3
   },
   "file_extension": ".py",
   "mimetype": "text/x-python",
   "name": "python",
   "nbconvert_exporter": "python",
   "pygments_lexer": "ipython3",
   "version": "3.12.7"
  }
 },
 "nbformat": 4,
 "nbformat_minor": 5
}
