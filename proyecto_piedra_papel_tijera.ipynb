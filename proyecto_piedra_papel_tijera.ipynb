{
 "cells": [
  {
   "cell_type": "markdown",
   "id": "35cfdacf",
   "metadata": {},
   "source": [
    "# Creación del Juego Piedra, Papel o Tijera"
   ]
  },
  {
   "cell_type": "code",
   "execution_count": 14,
   "id": "43bc626f",
   "metadata": {},
   "outputs": [
    {
     "name": "stdout",
     "output_type": "stream",
     "text": [
      "Jugador2 pierde\n"
     ]
    }
   ],
   "source": [
    "jugador1 = \"tijeras\"\n",
    "jugador2 = \"papel\"\n",
    "\n",
    "if jugador1 == \"tijeras\":\n",
    "    if jugador2 == \"tijeras\":\n",
    "        print(\"Empate\")\n",
    "    else:\n",
    "        print(\"Jugador2 pierde\")\n",
    "  "
   ]
  },
  {
   "cell_type": "code",
   "execution_count": 22,
   "id": "c8df859e",
   "metadata": {},
   "outputs": [
    {
     "name": "stdout",
     "output_type": "stream",
     "text": [
      "Jugador 3 gana\n"
     ]
    }
   ],
   "source": [
    "jugador3 = input(\"Escoge piedra, papel o tijera\")\n",
    "jugador4 = \"papel\"\n",
    "\n",
    "if jugador4 == \"papel\":\n",
    "    if jugador3 == \"papel\":\n",
    "        print(\"Empate\")\n",
    "    elif jugador3 == \"piedra\":\n",
    "        print(\"Jugador 3 piede\")\n",
    "    else:\n",
    "        print(\"Jugador 3 gana\")"
   ]
  },
  {
   "cell_type": "code",
   "execution_count": null,
   "id": "0b07f616",
   "metadata": {},
   "outputs": [
    {
     "ename": "SyntaxError",
     "evalue": "invalid syntax (2439587466.py, line 8)",
     "output_type": "error",
     "traceback": [
      "\u001b[0;36m  Cell \u001b[0;32mIn[76], line 8\u001b[0;36m\u001b[0m\n\u001b[0;31m    if jugada_aleatoria ==:\u001b[0m\n\u001b[0m                          ^\u001b[0m\n\u001b[0;31mSyntaxError\u001b[0m\u001b[0;31m:\u001b[0m invalid syntax\n"
     ]
    }
   ],
   "source": [
    "import random\n",
    "\n",
    "jugadas = [\"Piedra\", \"Papel\", \"Tijeras\"]\n",
    "\n",
    "jugador5 = input(\"Escoge piedra, papel o tijeras\").title()\n",
    "jugada_aleatoria= random.choice(jugadas)\n",
    "\n",
    "if jugada_aleatoria == \"Piedra\":\n",
    "    if jugador5 == \"Piedra\":\n",
    "        print(\"¡Habéis empatado! Jugar otra vez\")\n",
    "    elif jugador5 == \"Papel\":\n",
    "        print(\"Jugador 5 gana\")\n",
    "    else:\n",
    "        print(\"Jugador 5 pierde\")\n",
    "if jugada"
   ]
  },
  {
   "cell_type": "code",
   "execution_count": null,
   "id": "e4ab9965",
   "metadata": {},
   "outputs": [],
   "source": [
    "#ejemplo para revisar con Carol:\n",
    "intentos = 3\n",
    "palabra_secreta = \"verde\"\n",
    "\n",
    "for intento in range(intentos):\n",
    "    adivinanza = input(\"Adivina la palabra secreta\")\n",
    "    if palabra_secreta == adivinanza:\n",
    "        print(\"Has ganado\")\n",
    "        print(\"..........\")\n",
    "        break\n",
    "    else:\n",
    "        print(\"No lo has adivinado\")\n",
    "        print(\"..........\")"
   ]
  }
 ],
 "metadata": {
  "kernelspec": {
   "display_name": "base",
   "language": "python",
   "name": "python3"
  },
  "language_info": {
   "codemirror_mode": {
    "name": "ipython",
    "version": 3
   },
   "file_extension": ".py",
   "mimetype": "text/x-python",
   "name": "python",
   "nbconvert_exporter": "python",
   "pygments_lexer": "ipython3",
   "version": "3.12.7"
  }
 },
 "nbformat": 4,
 "nbformat_minor": 5
}
