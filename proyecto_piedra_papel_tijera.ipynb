{
 "cells": [
  {
   "cell_type": "markdown",
   "id": "35cfdacf",
   "metadata": {},
   "source": [
    "# Creación del Juego Piedra, Papel o Tijera"
   ]
  },
  {
   "cell_type": "code",
   "execution_count": 1,
   "id": "0b07f616",
   "metadata": {},
   "outputs": [],
   "source": [
    "import random\n",
    "\n"
   ]
  },
  {
   "cell_type": "code",
   "execution_count": 2,
   "id": "4680a797",
   "metadata": {},
   "outputs": [],
   "source": [
    "#piedra vs papel= gana papel. \n",
    "#piedra vs tijeras= gana piedra.\n",
    "#tijeras vs papel= gana tijeras\n",
    "\n"
   ]
  },
  {
   "cell_type": "code",
   "execution_count": null,
   "id": "806155e8",
   "metadata": {},
   "outputs": [
    {
     "name": "stdout",
     "output_type": "stream",
     "text": [
      "3\n"
     ]
    }
   ],
   "source": [
    "puntos_objetivo= 3\n",
    "puntos_jug1=0\n",
    "puntos_pc=0 \n",
    "\n",
    "\n",
    "def jugar_piedra_papel_tijeras ():\n",
    "\n",
    "    while puntos_jug1 < 3 and puntos_pc < 3: #como poner los puntos ganados dentro del while para poder avanzar o terminar el juego\n",
    "\n",
    "        jug1 = input(\"Escoge piedra, papel o tijeras\").title()\n",
    "        jugada_aleatoria= random.choice(jugadas)\n",
    "        \n",
    "    if jugada_aleatoria == \"Piedra\":\n",
    "        if jug1 == \"Piedra\":\n",
    "            print(\"¡Habéis empatado! Jugar otra vez\")\n",
    "        elif jug1 == \"Papel\":\n",
    "            print(\"Jug 1 gana\")\n",
    "        elif jug1 == \"Tijeras\":\n",
    "            print(\"Jug 1 pierde\")\n",
    "print(puntos_objetivo)"
   ]
  }
 ],
 "metadata": {
  "kernelspec": {
   "display_name": "base",
   "language": "python",
   "name": "python3"
  },
  "language_info": {
   "codemirror_mode": {
    "name": "ipython",
    "version": 3
   },
   "file_extension": ".py",
   "mimetype": "text/x-python",
   "name": "python",
   "nbconvert_exporter": "python",
   "pygments_lexer": "ipython3",
   "version": "3.12.7"
  }
 },
 "nbformat": 4,
 "nbformat_minor": 5
}
