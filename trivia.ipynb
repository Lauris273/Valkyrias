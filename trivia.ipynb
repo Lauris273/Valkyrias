{
 "cells": [
  {
   "cell_type": "code",
   "execution_count": 9,
   "id": "3f80a09b",
   "metadata": {},
   "outputs": [
    {
     "ename": "SyntaxError",
     "evalue": "invalid syntax (407486191.py, line 2)",
     "output_type": "error",
     "traceback": [
      "\u001b[1;36m  Cell \u001b[1;32mIn[9], line 2\u001b[1;36m\u001b[0m\n\u001b[1;33m    jugador = #input o un nombre\u001b[0m\n\u001b[1;37m              ^\u001b[0m\n\u001b[1;31mSyntaxError\u001b[0m\u001b[1;31m:\u001b[0m invalid syntax\n"
     ]
    }
   ],
   "source": [
    "#variables\n",
    "jugador = #input o un nombre\n",
    "#el contador va referido a ese jugador\n",
    "#en el input poner \"bienvenido al juego jugador\"\n",
    "dic_preguntas = {pregunta:respuesta}\n",
    "intentos = #variable o bucle for\n",
    "#max 5 intentos correctos\n",
    "#max 3 intentos fallidos\n",
    "contador = intentos += 1\n",
    "pregunta_aleatoria = random.choice(list(dic_preguntas))\n",
    "respuesta_jugador = input.capitalize\n",
    "lista_respuestas = #que aquí se vayan acumulando las respuestas introducidas.append()\n"
   ]
  },
  {
   "cell_type": "markdown",
   "id": "1b167767",
   "metadata": {},
   "source": [
    "import random\n",
    "\n",
    "dic = {'a': 1, 'b': 2, 'c': 3}\n",
    "clave_aleatoria = random.choice(list(dic))\n",
    "print(clave_aleatoria)"
   ]
  },
  {
   "cell_type": "code",
   "execution_count": 2,
   "id": "ad04927f",
   "metadata": {},
   "outputs": [],
   "source": [
    "import random"
   ]
  },
  {
   "cell_type": "code",
   "execution_count": 12,
   "id": "afca2f9a",
   "metadata": {},
   "outputs": [
    {
     "name": "stdout",
     "output_type": "stream",
     "text": [
      "4\n"
     ]
    }
   ],
   "source": [
    "#código para restar intentos\n",
    "pregunta = \"hola\"\n",
    "respuesta = \"hola\"\n",
    "contador = 5\n",
    "if respuesta == pregunta:\n",
    "    contador -=1\n",
    "    print(contador)"
   ]
  },
  {
   "cell_type": "code",
   "execution_count": 14,
   "id": "a3a1dfb1",
   "metadata": {},
   "outputs": [
    {
     "name": "stdout",
     "output_type": "stream",
     "text": [
      "{'Francia': 'París', 'España': 'Madrid', 'Alemania': 'Berlín'}\n"
     ]
    }
   ],
   "source": [
    "#la respuesta de nuestro jugador tiene que ser == al valor de la pregunta que le hagamos\n",
    "dic_prueba = {\"Francia\":\"París\", \"España\":\"Madrid\", \"Alemania\":\"Berlín\"}\n",
    "contador = 5\n",
    "dic_prueba.keys() == \"Berlín\"\n",
    "respuesta = \"Alemania\"\n",
    "if pregunta == respuesta:\n",
    "    contador -=1\n",
    "    print(contador)\n",
    "\n",
    "print(dic_prueba)\n"
   ]
  },
  {
   "cell_type": "code",
   "execution_count": 15,
   "id": "6df11052",
   "metadata": {},
   "outputs": [
    {
     "name": "stdout",
     "output_type": "stream",
     "text": [
      "has fallado\n"
     ]
    }
   ],
   "source": [
    "dic_prueba = {\"Francia\":\"París\", \"España\":\"Madrid\", \"Alemania\":\"Berlín\"}\n",
    "pregunta = \"Francia\"\n",
    "respuesta_correcta = \"París\"\n",
    "\n",
    "opcion = \"Madrid\"\n",
    "if respuesta_correcta == opcion:\n",
    "    print(\"has ganado\")\n",
    "else:\n",
    "    print(\"has fallado\")"
   ]
  },
  {
   "cell_type": "code",
   "execution_count": 16,
   "id": "85cbcb2a",
   "metadata": {},
   "outputs": [
    {
     "ename": "SyntaxError",
     "evalue": "invalid syntax (3465537699.py, line 4)",
     "output_type": "error",
     "traceback": [
      "\u001b[1;36m  Cell \u001b[1;32mIn[16], line 4\u001b[1;36m\u001b[0m\n\u001b[1;33m    pregunta = #random\u001b[0m\n\u001b[1;37m               ^\u001b[0m\n\u001b[1;31mSyntaxError\u001b[0m\u001b[1;31m:\u001b[0m invalid syntax\n"
     ]
    }
   ],
   "source": [
    "### AYUDITA DE CÉSAR:\n",
    "\n",
    "dic_prueba = {\"Francia\":\"París\", \"España\":\"Madrid\", \"Alemania\":\"Berlín\"}\n",
    "pregunta = #random\n",
    "respuesta_correcta = dic_prueba[pregunta]\n",
    "#print\n",
    "opcion = \"Madrid\" #input\n",
    "if respuesta_correcta == opcion:\n",
    "    print(\"has ganado\")\n",
    "else:\n",
    "    print(\"has fallado\")"
   ]
  },
  {
   "cell_type": "code",
   "execution_count": 5,
   "id": "bd6128af",
   "metadata": {},
   "outputs": [],
   "source": [
    "import random"
   ]
  },
  {
   "cell_type": "code",
   "execution_count": 18,
   "id": "65d7c248",
   "metadata": {},
   "outputs": [
    {
     "name": "stdout",
     "output_type": "stream",
     "text": [
      "Madrid\n"
     ]
    }
   ],
   "source": [
    "#no era capaz de poner la primera letra en mayúsculas de \"opcion\" sin crear una nueva variable \"opcion2\"\n",
    "opcion = input(\"Dime la capital de\")\n",
    "opcion2=opcion.title()\n",
    "print(opcion2)"
   ]
  },
  {
   "cell_type": "code",
   "execution_count": 24,
   "id": "f1c8ebd1",
   "metadata": {},
   "outputs": [
    {
     "name": "stdout",
     "output_type": "stream",
     "text": [
      "España\n",
      "Madrid\n",
      "has ganado\n"
     ]
    }
   ],
   "source": [
    "## aquí aparece cómo le preguntamos al diccionario por un país y el usuario escoge la capital, y si la escribiera mal (sin la primera en mayúscula), lo corrige\n",
    "dic_prueba = {\"Francia\":\"Paris\", \"España\":\"Madrid\", \"Alemania\":\"Berlin\"}\n",
    "pregunta = random.choice(list(dic_prueba))\n",
    "print(pregunta)\n",
    "\n",
    "respuesta_correcta = dic_prueba[pregunta]\n",
    "opcion = input(\"Dime la capital de\")\n",
    "opcion2=opcion.title()\n",
    "print(opcion2)\n",
    "\n",
    "if respuesta_correcta == opcion2:\n",
    "    print(\"has ganado\")\n",
    "else:\n",
    "    print(\"has fallado\")"
   ]
  },
  {
   "cell_type": "code",
   "execution_count": 7,
   "id": "5a5a76f8",
   "metadata": {},
   "outputs": [
    {
     "name": "stdout",
     "output_type": "stream",
     "text": [
      "Alemania\n",
      "S\n",
      "has fallado\n",
      "5\n",
      "2\n"
     ]
    }
   ],
   "source": [
    "# aquí incluyo los intentos\n",
    "dic_prueba = {\"Francia\":\"Paris\", \"España\":\"Madrid\", \"Alemania\":\"Berlin\"}\n",
    "pregunta = random.choice(list(dic_prueba))\n",
    "print(pregunta)\n",
    "\n",
    "respuesta_correcta = dic_prueba[pregunta]\n",
    "opcion = input(\"Dime la capital de\")\n",
    "opcion2=opcion.title()\n",
    "print(opcion2)\n",
    "\n",
    "contador_aciertos = 5\n",
    "contador_fallos = 3\n",
    "\n",
    "if respuesta_correcta == opcion2:\n",
    "    print(\"has ganado\")\n",
    "    contador_aciertos-=1\n",
    "else:\n",
    "    print(\"has fallado\")\n",
    "    contador_fallos-=1\n",
    "\n",
    "print(contador_aciertos)\n",
    "print(contador_fallos)\n"
   ]
  },
  {
   "cell_type": "code",
   "execution_count": null,
   "id": "a7e4c286",
   "metadata": {},
   "outputs": [],
   "source": []
  },
  {
   "cell_type": "code",
   "execution_count": 8,
   "id": "eb781ec2",
   "metadata": {},
   "outputs": [
    {
     "name": "stdout",
     "output_type": "stream",
     "text": [
      "España\n",
      "Madrid\n",
      "Has fallado\n",
      "Te quedan  2 intentos\n",
      "------------------------------------------\n",
      "España\n",
      "\n",
      "Has fallado\n",
      "Te quedan  1 intentos\n",
      "------------------------------------------\n",
      "España\n",
      "\n",
      "Has fallado\n",
      "Te quedan  0 intentos\n",
      "------------------------------------------\n",
      "Alemania\n",
      "\n",
      "Has fallado\n",
      "Te quedan  -1 intentos\n",
      "------------------------------------------\n",
      "Francia\n"
     ]
    },
    {
     "ename": "KeyboardInterrupt",
     "evalue": "Interrupted by user",
     "output_type": "error",
     "traceback": [
      "\u001b[1;31m---------------------------------------------------------------------------\u001b[0m",
      "\u001b[1;31mKeyboardInterrupt\u001b[0m                         Traceback (most recent call last)",
      "Cell \u001b[1;32mIn[8], line 12\u001b[0m\n\u001b[0;32m     10\u001b[0m pregunta \u001b[38;5;241m=\u001b[39m random\u001b[38;5;241m.\u001b[39mchoice(\u001b[38;5;28mlist\u001b[39m(dic_prueba))\n\u001b[0;32m     11\u001b[0m \u001b[38;5;28mprint\u001b[39m(pregunta)\n\u001b[1;32m---> 12\u001b[0m opcion \u001b[38;5;241m=\u001b[39m \u001b[38;5;28minput\u001b[39m(\u001b[38;5;124m\"\u001b[39m\u001b[38;5;124mDime la capital de\u001b[39m\u001b[38;5;124m\"\u001b[39m)\n\u001b[0;32m     13\u001b[0m opcion2\u001b[38;5;241m=\u001b[39mopcion\u001b[38;5;241m.\u001b[39mtitle()\n\u001b[0;32m     14\u001b[0m \u001b[38;5;28mprint\u001b[39m(opcion2)\n",
      "File \u001b[1;32mc:\\Users\\Usuario\\anaconda3\\Lib\\site-packages\\ipykernel\\kernelbase.py:1262\u001b[0m, in \u001b[0;36mKernel.raw_input\u001b[1;34m(self, prompt)\u001b[0m\n\u001b[0;32m   1260\u001b[0m     msg \u001b[38;5;241m=\u001b[39m \u001b[38;5;124m\"\u001b[39m\u001b[38;5;124mraw_input was called, but this frontend does not support input requests.\u001b[39m\u001b[38;5;124m\"\u001b[39m\n\u001b[0;32m   1261\u001b[0m     \u001b[38;5;28;01mraise\u001b[39;00m StdinNotImplementedError(msg)\n\u001b[1;32m-> 1262\u001b[0m \u001b[38;5;28;01mreturn\u001b[39;00m \u001b[38;5;28mself\u001b[39m\u001b[38;5;241m.\u001b[39m_input_request(\n\u001b[0;32m   1263\u001b[0m     \u001b[38;5;28mstr\u001b[39m(prompt),\n\u001b[0;32m   1264\u001b[0m     \u001b[38;5;28mself\u001b[39m\u001b[38;5;241m.\u001b[39m_parent_ident[\u001b[38;5;124m\"\u001b[39m\u001b[38;5;124mshell\u001b[39m\u001b[38;5;124m\"\u001b[39m],\n\u001b[0;32m   1265\u001b[0m     \u001b[38;5;28mself\u001b[39m\u001b[38;5;241m.\u001b[39mget_parent(\u001b[38;5;124m\"\u001b[39m\u001b[38;5;124mshell\u001b[39m\u001b[38;5;124m\"\u001b[39m),\n\u001b[0;32m   1266\u001b[0m     password\u001b[38;5;241m=\u001b[39m\u001b[38;5;28;01mFalse\u001b[39;00m,\n\u001b[0;32m   1267\u001b[0m )\n",
      "File \u001b[1;32mc:\\Users\\Usuario\\anaconda3\\Lib\\site-packages\\ipykernel\\kernelbase.py:1305\u001b[0m, in \u001b[0;36mKernel._input_request\u001b[1;34m(self, prompt, ident, parent, password)\u001b[0m\n\u001b[0;32m   1302\u001b[0m \u001b[38;5;28;01mexcept\u001b[39;00m \u001b[38;5;167;01mKeyboardInterrupt\u001b[39;00m:\n\u001b[0;32m   1303\u001b[0m     \u001b[38;5;66;03m# re-raise KeyboardInterrupt, to truncate traceback\u001b[39;00m\n\u001b[0;32m   1304\u001b[0m     msg \u001b[38;5;241m=\u001b[39m \u001b[38;5;124m\"\u001b[39m\u001b[38;5;124mInterrupted by user\u001b[39m\u001b[38;5;124m\"\u001b[39m\n\u001b[1;32m-> 1305\u001b[0m     \u001b[38;5;28;01mraise\u001b[39;00m \u001b[38;5;167;01mKeyboardInterrupt\u001b[39;00m(msg) \u001b[38;5;28;01mfrom\u001b[39;00m \u001b[38;5;28;01mNone\u001b[39;00m\n\u001b[0;32m   1306\u001b[0m \u001b[38;5;28;01mexcept\u001b[39;00m \u001b[38;5;167;01mException\u001b[39;00m:\n\u001b[0;32m   1307\u001b[0m     \u001b[38;5;28mself\u001b[39m\u001b[38;5;241m.\u001b[39mlog\u001b[38;5;241m.\u001b[39mwarning(\u001b[38;5;124m\"\u001b[39m\u001b[38;5;124mInvalid Message:\u001b[39m\u001b[38;5;124m\"\u001b[39m, exc_info\u001b[38;5;241m=\u001b[39m\u001b[38;5;28;01mTrue\u001b[39;00m)\n",
      "\u001b[1;31mKeyboardInterrupt\u001b[0m: Interrupted by user"
     ]
    }
   ],
   "source": [
    "## creamos el while con los intentos:\n",
    "\n",
    "dic_prueba = {\"Francia\":\"Paris\", \"España\":\"Madrid\", \"Alemania\":\"Berlin\"}\n",
    "respuesta_correcta = dic_prueba[pregunta]\n",
    "contador_aciertos = 5\n",
    "contador_fallos = 3\n",
    "\n",
    "while contador_aciertos >=0 or contador_fallos >=0:\n",
    "    \n",
    "    pregunta = random.choice(list(dic_prueba))\n",
    "    print(pregunta)\n",
    "    opcion = input(\"Dime la capital de\")\n",
    "    opcion2=opcion.title()\n",
    "    print(opcion2)\n",
    "\n",
    "    if respuesta_correcta == opcion2:\n",
    "        print(\"Has acertado\")\n",
    "        contador_aciertos-=1\n",
    "        print(f\"Te quedan \", contador_aciertos, \"intentos\")\n",
    "        print(\"------------------------------------------\")\n",
    "\n",
    "    else:\n",
    "        print(\"Has fallado\")\n",
    "        contador_fallos-=1\n",
    "        print(f\"Te quedan \",contador_fallos, \"intentos\")\n",
    "        print(\"------------------------------------------\")\n",
    "\n",
    "\n"
   ]
  },
  {
   "cell_type": "code",
   "execution_count": 3,
   "id": "1b11e083",
   "metadata": {},
   "outputs": [
    {
     "ename": "KeyboardInterrupt",
     "evalue": "",
     "output_type": "error",
     "traceback": [
      "\u001b[1;31m---------------------------------------------------------------------------\u001b[0m",
      "\u001b[1;31mKeyboardInterrupt\u001b[0m                         Traceback (most recent call last)",
      "Cell \u001b[1;32mIn[3], line 3\u001b[0m\n\u001b[0;32m      1\u001b[0m aciertos \u001b[38;5;241m=\u001b[39m \u001b[38;5;241m10\u001b[39m\n\u001b[1;32m----> 3\u001b[0m \u001b[38;5;28;01mwhile\u001b[39;00m aciertos\u001b[38;5;241m>\u001b[39m\u001b[38;5;241m=\u001b[39m\u001b[38;5;241m0\u001b[39m:\n\u001b[0;32m      4\u001b[0m     \u001b[38;5;28;01mif\u001b[39;00m aciertos\u001b[38;5;241m<\u001b[39m\u001b[38;5;241m10\u001b[39m:\n\u001b[0;32m      5\u001b[0m         \u001b[38;5;28mprint\u001b[39m(\u001b[38;5;124m\"\u001b[39m\u001b[38;5;124m2\u001b[39m\u001b[38;5;124m\"\u001b[39m)\n",
      "\u001b[1;31mKeyboardInterrupt\u001b[0m: "
     ]
    }
   ],
   "source": [
    "aciertos = 10\n",
    "\n",
    "while aciertos>=0:\n",
    "    if aciertos<10:\n",
    "        print(\"2\")\n",
    "        aciertos-=1\n",
    "    else:\n",
    "        pass"
   ]
  },
  {
   "cell_type": "code",
   "execution_count": 3,
   "id": "9a6b9060",
   "metadata": {},
   "outputs": [
    {
     "name": "stdout",
     "output_type": "stream",
     "text": [
      "Madrid\n"
     ]
    }
   ],
   "source": [
    "op = input(\"Dime la capital de\").title()\n",
    "print(op)"
   ]
  },
  {
   "cell_type": "code",
   "execution_count": 3,
   "id": "bebc2ba7",
   "metadata": {},
   "outputs": [
    {
     "name": "stdout",
     "output_type": "stream",
     "text": [
      "¿Cuál es la capital de España\n",
      "Berlin\n",
      "Has fallado\n",
      "Te quedan  2 intentos\n",
      "------------------------------------------\n",
      "¿Cuál es la capital de Alemania\n",
      "Madrid\n",
      "Has fallado\n",
      "Te quedan  1 intentos\n",
      "------------------------------------------\n",
      "¿Cuál es la capital de Francia\n",
      "\n",
      "Has fallado\n",
      "Te quedan  0 intentos\n",
      "------------------------------------------\n",
      "¿Cuál es la capital de España\n",
      "Paris\n",
      "Has fallado\n",
      "Te quedan  -1 intentos\n",
      "------------------------------------------\n"
     ]
    }
   ],
   "source": [
    "dic_prueba = {\"Francia\":\"Paris\", \"España\":\"Madrid\", \"Alemania\":\"Berlin\"}\n",
    "\n",
    "contador_aciertos = 5\n",
    "contador_fallos = 3\n",
    "\n",
    "while contador_aciertos >=0 and contador_fallos >=0:\n",
    "    #clave and en lugar de or.\n",
    "    pregunta = random.choice(list(dic_prueba))\n",
    "    respuesta_correcta = dic_prueba[pregunta] #estábamos llamando a la variable pregunta, antes de crearla\n",
    "    print(\"¿Cuál es la capital de\", pregunta)#de esta forma no tenemos que hacer un diccionario con preguntas, solo paises\n",
    "    opcion = input(\"Dime la capital de\").title()\n",
    "    #opcion2=opcion.title() no hace falta crear otra variable\n",
    "    print(opcion)\n",
    "\n",
    "    if respuesta_correcta == opcion:\n",
    "        print(\"Has acertado\")\n",
    "        contador_aciertos-=1\n",
    "        print(f\"Te quedan \", contador_aciertos, \"intentos\")\n",
    "        print(\"------------------------------------------\")\n",
    "\n",
    "    else:\n",
    "        print(\"Has fallado\")\n",
    "        contador_fallos-=1\n",
    "        print(f\"Te quedan \",contador_fallos, \"intentos\")\n",
    "        print(\"------------------------------------------\")"
   ]
  },
  {
   "cell_type": "code",
   "execution_count": null,
   "id": "56fbea8a",
   "metadata": {},
   "outputs": [],
   "source": [
    "def actualizar_contador(contador, es_acierto):\n",
    "    \"\"\"\n",
    "    Resta 1 al contador actual y, opcionalmente, lo reinicia a 5 o 3 según la respuesta.\n",
    "    \"\"\"\n",
    "    # Resta 1\n",
    "    contador -= 1\n",
    "\n",
    "    # Si el contador todavía tiene \"créditos\", se reinicia según el tipo de respuesta.\n",
    "    if es_acierto:\n",
    "        # Reinicia el contador a 5 para la siguiente ronda\n",
    "        contador = 5\n",
    "    else:\n",
    "        # Reinicia el contador a 3 para la siguiente ronda\n",
    "        contador = 3\n",
    "\n",
    "    # Aquí puedes decidir si la resta y la reinicialización deben suceder\n",
    "    # en la misma llamada o si prefieres separar ambas operaciones.\n",
    "    return contador"
   ]
  },
  {
   "cell_type": "code",
   "execution_count": 6,
   "id": "50ea17d9",
   "metadata": {},
   "outputs": [
    {
     "name": "stdout",
     "output_type": "stream",
     "text": [
      "¿Cuál es la capital de España?\n",
      "Has fallado\n",
      "Te quedan 5 aciertos y 2 fallos.\n",
      "------------------------------------------\n",
      "¿Cuál es la capital de España?\n",
      "Has fallado\n",
      "Te quedan 5 aciertos y 1 fallos.\n",
      "------------------------------------------\n",
      "¿Cuál es la capital de España?\n",
      "Has acertado\n",
      "Te quedan 4 aciertos y 1 fallos.\n",
      "------------------------------------------\n",
      "¿Cuál es la capital de Francia?\n",
      "Has acertado\n",
      "Te quedan 3 aciertos y 1 fallos.\n",
      "------------------------------------------\n",
      "¿Cuál es la capital de Francia?\n",
      "Has acertado\n",
      "Te quedan 2 aciertos y 1 fallos.\n",
      "------------------------------------------\n",
      "¿Cuál es la capital de España?\n",
      "Has fallado\n",
      "Te quedan 2 aciertos y 0 fallos.\n",
      "------------------------------------------\n"
     ]
    }
   ],
   "source": [
    "import random\n",
    "\n",
    "dic_prueba = {\"Francia\": \"Paris\", \"España\": \"Madrid\", \"Alemania\": \"Berlin\"}\n",
    "\n",
    "contador_aciertos = 5\n",
    "contador_fallos = 3\n",
    "\n",
    "while contador_aciertos > 0 and contador_fallos > 0:\n",
    "    pregunta = random.choice(list(dic_prueba.keys()))\n",
    "    respuesta_correcta = dic_prueba[pregunta]\n",
    "    \n",
    "    print(f\"¿Cuál es la capital de {pregunta}?\")\n",
    "    opcion = input(\"Dime la capital: \").title()\n",
    "\n",
    "    if opcion == respuesta_correcta:\n",
    "        print(\"Has acertado\")\n",
    "        contador_aciertos -= 1\n",
    "    else:\n",
    "        print(\"Has fallado\")\n",
    "        contador_fallos -= 1\n",
    "\n",
    "    print(f\"Te quedan {contador_aciertos} aciertos y {contador_fallos} fallos.\")\n",
    "    print(\"------------------------------------------\")"
   ]
  },
  {
   "cell_type": "code",
   "execution_count": 2,
   "id": "b9e28170",
   "metadata": {},
   "outputs": [
    {
     "name": "stdout",
     "output_type": "stream",
     "text": [
      "{'España': 'Madrid', 'Alemania': 'Berlin'}\n"
     ]
    }
   ],
   "source": [
    "#sacar una clave:valor del diccionario una vez sea usada\n",
    "dic_prueba = {\"Francia\": \"Paris\", \"España\": \"Madrid\", \"Alemania\": \"Berlin\"}\n",
    "dic_prueba.pop(\"Francia\")\n",
    "print(dic_prueba)"
   ]
  },
  {
   "cell_type": "code",
   "execution_count": null,
   "id": "245a5a4d",
   "metadata": {},
   "outputs": [],
   "source": [
    "#Poner una opción de que si ponen un valor no valido en el input, que dé \"esto no es válido, contesta en nombre de una capital\"\n",
    " elif opcion != dic_prueba.values():\n",
    "        print(\"No te lies... Dime la capital del país\")"
   ]
  },
  {
   "cell_type": "code",
   "execution_count": 1,
   "id": "cd787a2f",
   "metadata": {},
   "outputs": [
    {
     "name": "stdout",
     "output_type": "stream",
     "text": [
      "¿Cuál es la capital de Alemania?\n",
      "\n",
      "Has fallado\n",
      "Te quedan 5 aciertos y 2 fallos.\n",
      "------------------------------------------\n",
      "¿Cuál es la capital de Francia?\n",
      "\n",
      "Has fallado\n",
      "Te quedan 5 aciertos y 1 fallos.\n",
      "------------------------------------------\n",
      "¿Cuál es la capital de Francia?\n",
      "1\n",
      "Has fallado\n",
      "Te quedan 5 aciertos y 0 fallos.\n",
      "------------------------------------------\n"
     ]
    }
   ],
   "source": [
    "import random\n",
    "\n",
    "dic_prueba = {\"Francia\": \"Paris\", \"España\": \"Madrid\", \"Alemania\": \"Berlin\"}\n",
    "\n",
    "contador_aciertos = 5\n",
    "contador_fallos = 3\n",
    "\n",
    "while contador_aciertos > 0 and contador_fallos > 0:\n",
    "    pregunta = random.choice(list(dic_prueba.keys()))\n",
    "    respuesta_correcta = dic_prueba[pregunta]\n",
    "    \n",
    "    print(f\"¿Cuál es la capital de {pregunta}?\")\n",
    "    opcion = input(\"Dime la capital: \").title()\n",
    "    print(opcion)\n",
    "\n",
    "    try:\n",
    "        if opcion == respuesta_correcta:\n",
    "            print(\"Has acertado\")\n",
    "            contador_aciertos -= 1\n",
    "        else:\n",
    "            print(\"Has fallado\")\n",
    "            contador_fallos -= 1\n",
    "\n",
    "    except:\n",
    "        if opcion != dic_prueba.values():\n",
    "            print(\"No te lies... Dime la capital del país\")\n",
    "    \n",
    "\n",
    "    print(f\"Te quedan {contador_aciertos} aciertos y {contador_fallos} fallos.\")\n",
    "    print(\"------------------------------------------\")"
   ]
  },
  {
   "cell_type": "code",
   "execution_count": null,
   "id": "ec0a131a",
   "metadata": {},
   "outputs": [
    {
     "name": "stdout",
     "output_type": "stream",
     "text": [
      "¿Cuál es la capital de Francia?\n",
      "Paris\n",
      "Has acertado\n",
      "{'España': 'Madrid', 'Alemania': 'Berlin'}\n",
      "Te quedan 4 aciertos y 3 fallos.\n",
      "------------------------------------------\n",
      "¿Cuál es la capital de Alemania?\n"
     ]
    }
   ],
   "source": [
    "import random\n",
    "\n",
    "dic_prueba = {\"Francia\": \"Paris\", \"España\": \"Madrid\", \"Alemania\": \"Berlin\"}\n",
    "\n",
    "contador_aciertos = 5\n",
    "contador_fallos = 3\n",
    "\n",
    "while contador_aciertos > 0 and contador_fallos > 0:\n",
    "    pregunta = random.choice(list(dic_prueba.keys()))\n",
    "    respuesta_correcta = dic_prueba[pregunta]\n",
    "    \n",
    "    print(f\"¿Cuál es la capital de {pregunta}?\")\n",
    "    opcion = input(\"Dime la capital: \").title()\n",
    "    print(opcion)\n",
    "\n",
    "    if opcion == respuesta_correcta:\n",
    "        print(\"Has acertado\")\n",
    "        contador_aciertos -= 1\n",
    "\n",
    "    else:\n",
    "        print(\"Has fallado\")\n",
    "        contador_fallos -= 1\n",
    "    dic_prueba.pop(pregunta)\n",
    "    (print(dic_prueba))\n",
    "\n",
    "    print(f\"Te quedan {contador_aciertos} aciertos y {contador_fallos} fallos.\")\n",
    "    print(\"------------------------------------------\")"
   ]
  }
 ],
 "metadata": {
  "kernelspec": {
   "display_name": "base",
   "language": "python",
   "name": "python3"
  },
  "language_info": {
   "codemirror_mode": {
    "name": "ipython",
    "version": 3
   },
   "file_extension": ".py",
   "mimetype": "text/x-python",
   "name": "python",
   "nbconvert_exporter": "python",
   "pygments_lexer": "ipython3",
   "version": "3.12.7"
  }
 },
 "nbformat": 4,
 "nbformat_minor": 5
}
