{
 "cells": [
  {
   "cell_type": "code",
   "execution_count": null,
   "id": "3f80a09b",
   "metadata": {},
   "outputs": [],
   "source": [
    "#variables\n",
    "jugador = #input o un nombre\n",
    "#el contador va referido a ese jugador\n",
    "#en el input poner \"bienvenido al juego jugador\"\n",
    "dic_preguntas = {pregunta:respuesta}\n",
    "intentos = #variable o bucle for\n",
    "#max 5 intentos correctos\n",
    "#max 3 intentos fallidos\n",
    "contador = intentos += 1\n",
    "pregunta_aleatoria = random.choice(list(dic_preguntas))\n",
    "respuesta_jugador = input.capitalize\n",
    "lista_respuestas = #que aquí se vayan acumulando las respuestas introducidas.append()\n"
   ]
  },
  {
   "cell_type": "markdown",
   "id": "1b167767",
   "metadata": {},
   "source": [
    "import random\n",
    "\n",
    "dic = {'a': 1, 'b': 2, 'c': 3}\n",
    "clave_aleatoria = random.choice(list(dic))\n",
    "print(clave_aleatoria)"
   ]
  },
  {
   "cell_type": "code",
   "execution_count": 1,
   "id": "ad04927f",
   "metadata": {},
   "outputs": [],
   "source": [
    "import random"
   ]
  },
  {
   "cell_type": "code",
   "execution_count": null,
   "id": "cdf7296e",
   "metadata": {},
   "outputs": [
    {
     "name": "stdout",
     "output_type": "stream",
     "text": [
      "Alemania\n"
     ]
    }
   ],
   "source": [
    "dic_prueba = {\"Francia\":\"París\", \"España\":\"Madrid\", \"Alemania\":\"Berlín\"}\n",
    "\n",
    "print(pregunta_aleatoria_pru)\n",
    "while intentos \n",
    "pregunta_aleatoria_pru = random.choice(list(dic_prueba))"
   ]
  },
  {
   "cell_type": "code",
   "execution_count": 15,
   "id": "afca2f9a",
   "metadata": {},
   "outputs": [
    {
     "name": "stdout",
     "output_type": "stream",
     "text": [
      "4\n"
     ]
    }
   ],
   "source": [
    "#código para restar intentos\n",
    "pregunta = \"hola\"\n",
    "respuesta = \"hola\"\n",
    "contador = 5\n",
    "if respuesta == pregunta:\n",
    "    contador -=1\n",
    "    print(contador)"
   ]
  },
  {
   "cell_type": "code",
   "execution_count": null,
   "id": "4deedd6f",
   "metadata": {},
   "outputs": [],
   "source": [
    "while contador != 0\n",
    "c_a = 5\n",
    "c_e = 3\n"
   ]
  },
  {
   "cell_type": "code",
   "execution_count": 18,
   "id": "a3a1dfb1",
   "metadata": {},
   "outputs": [
    {
     "name": "stdout",
     "output_type": "stream",
     "text": [
      "{'Francia': 'París', 'España': 'Madrid', 'Alemania': 'Berlín'}\n"
     ]
    }
   ],
   "source": [
    "#la respuesta de nuestro jugador tiene que ser == al valor de la pregunta que le hagamos\n",
    "dic_prueba = {\"Francia\":\"París\", \"España\":\"Madrid\", \"Alemania\":\"Berlín\"}\n",
    "contador = 5\n",
    "dic_prueba.keys() == \"Berlín\"\n",
    "respuesta = \"Alemania\"\n",
    "if pregunta == respuesta:\n",
    "    contador -=1\n",
    "    print(contador)\n",
    "\n",
    "print(dic_prueba)\n"
   ]
  },
  {
   "cell_type": "code",
   "execution_count": 20,
   "id": "6df11052",
   "metadata": {},
   "outputs": [
    {
     "name": "stdout",
     "output_type": "stream",
     "text": [
      "has fallado\n"
     ]
    }
   ],
   "source": [
    "dic_prueba = {\"Francia\":\"París\", \"España\":\"Madrid\", \"Alemania\":\"Berlín\"}\n",
    "pregunta = \"Francia\"\n",
    "respuesta_correcta = \"París\"\n",
    "\n",
    "opcion = \"Madrid\"\n",
    "if respuesta_correcta == opcion:\n",
    "    print(\"has ganado\")\n",
    "else:\n",
    "    print(\"has fallado\")"
   ]
  },
  {
   "cell_type": "code",
   "execution_count": null,
   "id": "85cbcb2a",
   "metadata": {},
   "outputs": [
    {
     "name": "stdout",
     "output_type": "stream",
     "text": [
      "has ganado\n"
     ]
    }
   ],
   "source": [
    "dic_prueba = {\"Francia\":\"París\", \"España\":\"Madrid\", \"Alemania\":\"Berlín\"}\n",
    "pregunta = #random\n",
    "respuesta_correcta = dic_prueba[pregunta]\n",
    "#print\n",
    "opcion = \"Madrid\" #input\n",
    "if respuesta_correcta == opcion:\n",
    "    print(\"has ganado\")\n",
    "else:\n",
    "    print(\"has fallado\")"
   ]
  }
 ],
 "metadata": {
  "kernelspec": {
   "display_name": "base",
   "language": "python",
   "name": "python3"
  },
  "language_info": {
   "codemirror_mode": {
    "name": "ipython",
    "version": 3
   },
   "file_extension": ".py",
   "mimetype": "text/x-python",
   "name": "python",
   "nbconvert_exporter": "python",
   "pygments_lexer": "ipython3",
   "version": "3.12.7"
  }
 },
 "nbformat": 4,
 "nbformat_minor": 5
}
