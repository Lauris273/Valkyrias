{
 "cells": [
  {
   "cell_type": "code",
   "execution_count": null,
   "id": "3f80a09b",
   "metadata": {},
   "outputs": [],
   "source": [
    "#variables\n",
    "jugador = #input o un nombre\n",
    "#el contador va referido a ese jugador\n",
    "#en el input poner \"bienvenido al juego jugador\"\n",
    "dic_preguntas = {pregunta:respuesta}\n",
    "intentos = #variable o bucle for\n",
    "#max 5 intentos correctos\n",
    "#max 3 intentos fallidos\n",
    "contador = intentos += 1\n",
    "pregunta_aleatoria = random.choice(list(dic_preguntas))\n",
    "respuesta_jugador = input.capitalize\n",
    "lista_respuestas = #que aquí se vayan acumulando las respuestas introducidas.append()\n"
   ]
  },
  {
   "cell_type": "markdown",
   "id": "1b167767",
   "metadata": {},
   "source": [
    "import random\n",
    "\n",
    "dic = {'a': 1, 'b': 2, 'c': 3}\n",
    "clave_aleatoria = random.choice(list(dic))\n",
    "print(clave_aleatoria)"
   ]
  },
  {
   "cell_type": "code",
   "execution_count": 1,
   "id": "ad04927f",
   "metadata": {},
   "outputs": [],
   "source": [
    "import random"
   ]
  },
  {
   "cell_type": "code",
   "execution_count": null,
   "id": "cdf7296e",
   "metadata": {},
   "outputs": [
    {
     "name": "stdout",
     "output_type": "stream",
     "text": [
      "Alemania\n"
     ]
    }
   ],
   "source": [
    "dic_prueba = {\"Francia\":\"París\", \"España\":\"Madrid\", \"Alemania\":\"Berlín\"}\n",
    "\n",
    "print(pregunta_aleatoria_pru)\n",
    "while intentos \n",
    "pregunta_aleatoria_pru = random.choice(list(dic_prueba))"
   ]
  }
 ],
 "metadata": {
  "kernelspec": {
   "display_name": "base",
   "language": "python",
   "name": "python3"
  },
  "language_info": {
   "codemirror_mode": {
    "name": "ipython",
    "version": 3
   },
   "file_extension": ".py",
   "mimetype": "text/x-python",
   "name": "python",
   "nbconvert_exporter": "python",
   "pygments_lexer": "ipython3",
   "version": "3.12.7"
  }
 },
 "nbformat": 4,
 "nbformat_minor": 5
}
